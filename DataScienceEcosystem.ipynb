{
  "metadata": {
    "kernelspec": {
      "name": "python",
      "display_name": "Python (Pyodide)",
      "language": "python"
    },
    "language_info": {
      "codemirror_mode": {
        "name": "python",
        "version": 3
      },
      "file_extension": ".py",
      "mimetype": "text/x-python",
      "name": "python",
      "nbconvert_exporter": "python",
      "pygments_lexer": "ipython3",
      "version": "3.8"
    }
  },
  "nbformat_minor": 5,
  "nbformat": 4,
  "cells": [
    {
      "id": "46a95908-9288-48f5-926f-af399d5449de",
      "cell_type": "markdown",
      "source": "# Data Science Tools and Ecosystem",
      "metadata": {}
    },
    {
      "id": "8c41de62-93de-4ff5-b12e-f65765cf6740",
      "cell_type": "markdown",
      "source": "In questo notebook sono riassunti gli strumenti e l’ecosistema della Data Science.",
      "metadata": {}
    },
    {
      "id": "128600e4-b885-42c6-9cae-f7a29ab2a43b",
      "cell_type": "markdown",
      "source": "Some of the popular languages that Data Scientists use are:\n\n1. Python  \n2. R  \n3. SQL  \n4. Julia  \n5. Scala",
      "metadata": {}
    },
    {
      "id": "53789252-6825-4008-9266-60a5122c9acb",
      "cell_type": "markdown",
      "source": "Some of the commonly used libraries used by Data Scientists include:\n\n- Pandas  \n- NumPy  \n- ggplot2  \n- scikit-learn  \n- dplyr",
      "metadata": {}
    },
    {
      "id": "1f248ccb-06a2-4885-ad87-d091bf0f7ea4",
      "cell_type": "markdown",
      "source": "| Data Science Tools         |\n|----------------------------|\n| Jupyter Notebook           |\n| RStudio                    |\n| Apache Zeppelin            |",
      "metadata": {}
    },
    {
      "id": "9ef157a2-e000-432a-929d-847dfa8994e8",
      "cell_type": "markdown",
      "source": "### Below are a few examples of evaluating arithmetic expressions in Python.",
      "metadata": {}
    },
    {
      "id": "d5a6b03f-7fa5-4877-86c4-ee2e4ce05f19",
      "cell_type": "code",
      "source": "# This is a simple arithmetic expression to multiply then add integers\n(3 * 4) + 5",
      "metadata": {
        "trusted": true
      },
      "outputs": [
        {
          "execution_count": 1,
          "output_type": "execute_result",
          "data": {
            "text/plain": "17"
          },
          "metadata": {}
        }
      ],
      "execution_count": 1
    },
    {
      "id": "73b8c0b4-6366-4e32-926b-718a42a96e5d",
      "cell_type": "code",
      "source": "# This will convert 200 minutes to hours by dividing by 60\n200 / 60",
      "metadata": {
        "trusted": true
      },
      "outputs": [
        {
          "execution_count": 2,
          "output_type": "execute_result",
          "data": {
            "text/plain": "3.3333333333333335"
          },
          "metadata": {}
        }
      ],
      "execution_count": 2
    },
    {
      "id": "d198d7e2-8493-464f-99c5-906e5c5eed95",
      "cell_type": "markdown",
      "source": "**Objectives:**\n\n- List popular languages for Data Science  \n- List commonly used libraries in Data Science  \n- Create tables and lists in markdown  \n- Perform arithmetic operations in Python  \n- Share a Jupyter Notebook on GitHub",
      "metadata": {}
    },
    {
      "id": "176ac12d-f092-4ae3-b904-387128eafaa7",
      "cell_type": "markdown",
      "source": "## Author\n\nCristiano Gorga",
      "metadata": {}
    },
    {
      "id": "4b15e66b-2e44-4db8-8a08-2ac92d98ecc0",
      "cell_type": "code",
      "source": "",
      "metadata": {
        "trusted": true
      },
      "outputs": [],
      "execution_count": null
    }
  ]
}